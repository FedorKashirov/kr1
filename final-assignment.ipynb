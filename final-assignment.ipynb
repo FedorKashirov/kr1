{
 "cells": [
  {
   "cell_type": "code",
   "execution_count": 84,
   "id": "4823afb1-b5fe-4e07-bcd2-6b23b3f43181",
   "metadata": {},
   "outputs": [
    {
     "name": "stdout",
     "output_type": "stream",
     "text": [
      "Requirement already satisfied: pandas in c:\\users\\79148\\appdata\\local\\packages\\pythonsoftwarefoundation.python.3.11_qbz5n2kfra8p0\\localcache\\local-packages\\python311\\site-packages (2.2.2)\n",
      "Requirement already satisfied: numpy>=1.23.2 in c:\\users\\79148\\appdata\\local\\packages\\pythonsoftwarefoundation.python.3.11_qbz5n2kfra8p0\\localcache\\local-packages\\python311\\site-packages (from pandas) (1.26.4)\n",
      "Requirement already satisfied: python-dateutil>=2.8.2 in c:\\users\\79148\\appdata\\local\\packages\\pythonsoftwarefoundation.python.3.11_qbz5n2kfra8p0\\localcache\\local-packages\\python311\\site-packages (from pandas) (2.9.0.post0)\n",
      "Requirement already satisfied: pytz>=2020.1 in c:\\users\\79148\\appdata\\local\\packages\\pythonsoftwarefoundation.python.3.11_qbz5n2kfra8p0\\localcache\\local-packages\\python311\\site-packages (from pandas) (2024.1)\n",
      "Requirement already satisfied: tzdata>=2022.7 in c:\\users\\79148\\appdata\\local\\packages\\pythonsoftwarefoundation.python.3.11_qbz5n2kfra8p0\\localcache\\local-packages\\python311\\site-packages (from pandas) (2024.1)\n",
      "Requirement already satisfied: six>=1.5 in c:\\users\\79148\\appdata\\local\\packages\\pythonsoftwarefoundation.python.3.11_qbz5n2kfra8p0\\localcache\\local-packages\\python311\\site-packages (from python-dateutil>=2.8.2->pandas) (1.16.0)\n",
      "Note: you may need to restart the kernel to use updated packages.\n"
     ]
    }
   ],
   "source": [
    "pip install pandas"
   ]
  },
  {
   "cell_type": "code",
   "execution_count": 85,
   "id": "f9505b6b",
   "metadata": {},
   "outputs": [],
   "source": [
    "import pandas as pd"
   ]
  },
  {
   "cell_type": "code",
   "execution_count": 86,
   "id": "5093c74f",
   "metadata": {},
   "outputs": [],
   "source": [
    "file_path = '2315676 (1).txt'"
   ]
  },
  {
   "cell_type": "code",
   "execution_count": 87,
   "id": "c9f51d83",
   "metadata": {},
   "outputs": [],
   "source": [
    "df = pd.read_csv(file_path, sep='\\s+', na_values='—', parse_dates=[\"DATE\"], date_format='%Y%m%d', index_col=\"DATE\", skiprows=[1])"
   ]
  },
  {
   "cell_type": "code",
   "execution_count": 88,
   "id": "d52ffa57",
   "metadata": {},
   "outputs": [
    {
     "name": "stdout",
     "output_type": "stream",
     "text": [
      "                      STATION      STATION_NAME  TAVG  TMAX  TMIN\n",
      "DATE                                                             \n",
      "1908-01-01  GHCND:FI000007501  SODANKYLA-AWS-FI -9999     2   -37\n",
      "1908-01-02  GHCND:FI000007501  SODANKYLA-AWS-FI -9999     6   -26\n",
      "1908-01-03  GHCND:FI000007501  SODANKYLA-AWS-FI -9999     7   -27\n",
      "1908-01-04  GHCND:FI000007501  SODANKYLA-AWS-FI -9999    -3   -27\n",
      "1908-01-05  GHCND:FI000007501  SODANKYLA-AWS-FI -9999     4   -36\n"
     ]
    }
   ],
   "source": [
    "print(df.head())"
   ]
  },
  {
   "cell_type": "code",
   "execution_count": 89,
   "id": "1c66f9ca",
   "metadata": {},
   "outputs": [],
   "source": [
    "df['TAVG_C'] = (df['TAVG'] - 32) / 1.8\n",
    "df['TMAX_C'] = (df['TMAX'] - 32) / 1.8\n",
    "df['TMIN_C'] = (df['TMIN'] - 32) / 1.8"
   ]
  },
  {
   "cell_type": "code",
   "execution_count": 90,
   "id": "6695d429",
   "metadata": {},
   "outputs": [
    {
     "name": "stdout",
     "output_type": "stream",
     "text": [
      "                      STATION      STATION_NAME  TAVG  TMAX  TMIN  \\\n",
      "DATE                                                                \n",
      "1908-01-01  GHCND:FI000007501  SODANKYLA-AWS-FI -9999     2   -37   \n",
      "1908-01-02  GHCND:FI000007501  SODANKYLA-AWS-FI -9999     6   -26   \n",
      "1908-01-03  GHCND:FI000007501  SODANKYLA-AWS-FI -9999     7   -27   \n",
      "1908-01-04  GHCND:FI000007501  SODANKYLA-AWS-FI -9999    -3   -27   \n",
      "1908-01-05  GHCND:FI000007501  SODANKYLA-AWS-FI -9999     4   -36   \n",
      "\n",
      "                 TAVG_C     TMAX_C     TMIN_C  \n",
      "DATE                                           \n",
      "1908-01-01 -5572.777778 -16.666667 -38.333333  \n",
      "1908-01-02 -5572.777778 -14.444444 -32.222222  \n",
      "1908-01-03 -5572.777778 -13.888889 -32.777778  \n",
      "1908-01-04 -5572.777778 -19.444444 -32.777778  \n",
      "1908-01-05 -5572.777778 -15.555556 -37.777778  \n"
     ]
    }
   ],
   "source": [
    "print(df.head())"
   ]
  },
  {
   "cell_type": "code",
   "execution_count": 91,
   "id": "d9895a15",
   "metadata": {},
   "outputs": [],
   "source": [
    "winter_months = [12, 1, 2]\n",
    "spring_months = [3, 4, 5]\n",
    "summer_months = [6, 7, 8]\n",
    "autumn_months = [9, 10, 11]"
   ]
  },
  {
   "cell_type": "code",
   "execution_count": 92,
   "id": "e00af537",
   "metadata": {},
   "outputs": [],
   "source": [
    "winter_data = df[df.index.month.isin(winter_months) & (df.index.year == 1999)]\n",
    "spring_data = df[df.index.month.isin(spring_months) & (df.index.year == 1999)]\n",
    "summer_data = df[df.index.month.isin(summer_months) & (df.index.year == 1999)]\n",
    "autumn_data = df[df.index.month.isin(autumn_months) & (df.index.year == 1999)]"
   ]
  },
  {
   "cell_type": "code",
   "execution_count": 93,
   "id": "2934969b",
   "metadata": {},
   "outputs": [
    {
     "name": "stdout",
     "output_type": "stream",
     "text": [
      "Winter Data:\n",
      "                      STATION      STATION_NAME  TAVG  TMAX  TMIN    TAVG_C  \\\n",
      "DATE                                                                          \n",
      "1999-01-01  GHCND:FI000007501  SODANKYLA-AWS-FI    24    27    21 -4.444444   \n",
      "1999-01-02  GHCND:FI000007501  SODANKYLA-AWS-FI    21    27    17 -6.111111   \n",
      "1999-01-03  GHCND:FI000007501  SODANKYLA-AWS-FI    29    32    20 -1.666667   \n",
      "1999-01-04  GHCND:FI000007501  SODANKYLA-AWS-FI    26    31    24 -3.333333   \n",
      "1999-01-05  GHCND:FI000007501  SODANKYLA-AWS-FI    22    25    20 -5.555556   \n",
      "\n",
      "              TMAX_C    TMIN_C  \n",
      "DATE                            \n",
      "1999-01-01 -2.777778 -6.111111  \n",
      "1999-01-02 -2.777778 -8.333333  \n",
      "1999-01-03  0.000000 -6.666667  \n",
      "1999-01-04 -0.555556 -4.444444  \n",
      "1999-01-05 -3.888889 -6.666667  \n",
      "Spring Data:\n",
      "                      STATION      STATION_NAME  TAVG  TMAX  TMIN     TAVG_C  \\\n",
      "DATE                                                                           \n",
      "1999-03-01  GHCND:FI000007501  SODANKYLA-AWS-FI    21    24     7  -6.111111   \n",
      "1999-03-02  GHCND:FI000007501  SODANKYLA-AWS-FI    17    23    11  -8.333333   \n",
      "1999-03-03  GHCND:FI000007501  SODANKYLA-AWS-FI     1    13    -7 -17.222222   \n",
      "1999-03-04  GHCND:FI000007501  SODANKYLA-AWS-FI    -9    10   -24 -22.777778   \n",
      "1999-03-05  GHCND:FI000007501  SODANKYLA-AWS-FI     1    21   -24 -17.222222   \n",
      "\n",
      "               TMAX_C     TMIN_C  \n",
      "DATE                              \n",
      "1999-03-01  -4.444444 -13.888889  \n",
      "1999-03-02  -5.000000 -11.666667  \n",
      "1999-03-03 -10.555556 -21.666667  \n",
      "1999-03-04 -12.222222 -31.111111  \n",
      "1999-03-05  -6.111111 -31.111111  \n",
      "Summer Data:\n",
      "                      STATION      STATION_NAME  TAVG  TMAX  TMIN    TAVG_C  \\\n",
      "DATE                                                                          \n",
      "1999-06-01  GHCND:FI000007501  SODANKYLA-AWS-FI    43    54    27  6.111111   \n",
      "1999-06-02  GHCND:FI000007501  SODANKYLA-AWS-FI    45    54    39  7.222222   \n",
      "1999-06-03  GHCND:FI000007501  SODANKYLA-AWS-FI    43    53    33  6.111111   \n",
      "1999-06-04  GHCND:FI000007501  SODANKYLA-AWS-FI    47    55    38  8.333333   \n",
      "1999-06-05  GHCND:FI000007501  SODANKYLA-AWS-FI    44    51    42  6.666667   \n",
      "\n",
      "               TMAX_C    TMIN_C  \n",
      "DATE                             \n",
      "1999-06-01  12.222222 -2.777778  \n",
      "1999-06-02  12.222222  3.888889  \n",
      "1999-06-03  11.666667  0.555556  \n",
      "1999-06-04  12.777778  3.333333  \n",
      "1999-06-05  10.555556  5.555556  \n",
      "Autumn Data:\n",
      "                      STATION      STATION_NAME  TAVG  TMAX  TMIN     TAVG_C  \\\n",
      "DATE                                                                           \n",
      "1999-09-01  GHCND:FI000007501  SODANKYLA-AWS-FI    56    61    52  13.333333   \n",
      "1999-09-02  GHCND:FI000007501  SODANKYLA-AWS-FI    57    59    56  13.888889   \n",
      "1999-09-03  GHCND:FI000007501  SODANKYLA-AWS-FI    61    67    57  16.111111   \n",
      "1999-09-04  GHCND:FI000007501  SODANKYLA-AWS-FI    53    62    49  11.666667   \n",
      "1999-09-05  GHCND:FI000007501  SODANKYLA-AWS-FI    54    63    48  12.222222   \n",
      "\n",
      "               TMAX_C     TMIN_C  \n",
      "DATE                              \n",
      "1999-09-01  16.111111  11.111111  \n",
      "1999-09-02  15.000000  13.333333  \n",
      "1999-09-03  19.444444  13.888889  \n",
      "1999-09-04  16.666667   9.444444  \n",
      "1999-09-05  17.222222   8.888889  \n"
     ]
    }
   ],
   "source": [
    "print(\"Winter Data:\")\n",
    "print(winter_data.head())\n",
    "print(\"Spring Data:\")\n",
    "print(spring_data.head())\n",
    "print(\"Summer Data:\")\n",
    "print(summer_data.head())\n",
    "print(\"Autumn Data:\")\n",
    "print(autumn_data.head())"
   ]
  },
  {
   "cell_type": "code",
   "execution_count": 94,
   "id": "e41036b0",
   "metadata": {},
   "outputs": [
    {
     "name": "stdout",
     "output_type": "stream",
     "text": [
      "Requirement already satisfied: matplotlib in c:\\users\\79148\\appdata\\local\\packages\\pythonsoftwarefoundation.python.3.11_qbz5n2kfra8p0\\localcache\\local-packages\\python311\\site-packages (3.8.4)\n",
      "Requirement already satisfied: contourpy>=1.0.1 in c:\\users\\79148\\appdata\\local\\packages\\pythonsoftwarefoundation.python.3.11_qbz5n2kfra8p0\\localcache\\local-packages\\python311\\site-packages (from matplotlib) (1.2.1)\n",
      "Requirement already satisfied: cycler>=0.10 in c:\\users\\79148\\appdata\\local\\packages\\pythonsoftwarefoundation.python.3.11_qbz5n2kfra8p0\\localcache\\local-packages\\python311\\site-packages (from matplotlib) (0.12.1)\n",
      "Requirement already satisfied: fonttools>=4.22.0 in c:\\users\\79148\\appdata\\local\\packages\\pythonsoftwarefoundation.python.3.11_qbz5n2kfra8p0\\localcache\\local-packages\\python311\\site-packages (from matplotlib) (4.51.0)\n",
      "Requirement already satisfied: kiwisolver>=1.3.1 in c:\\users\\79148\\appdata\\local\\packages\\pythonsoftwarefoundation.python.3.11_qbz5n2kfra8p0\\localcache\\local-packages\\python311\\site-packages (from matplotlib) (1.4.5)\n",
      "Requirement already satisfied: numpy>=1.21 in c:\\users\\79148\\appdata\\local\\packages\\pythonsoftwarefoundation.python.3.11_qbz5n2kfra8p0\\localcache\\local-packages\\python311\\site-packages (from matplotlib) (1.26.4)\n",
      "Requirement already satisfied: packaging>=20.0 in c:\\users\\79148\\appdata\\local\\packages\\pythonsoftwarefoundation.python.3.11_qbz5n2kfra8p0\\localcache\\local-packages\\python311\\site-packages (from matplotlib) (24.0)\n",
      "Requirement already satisfied: pillow>=8 in c:\\users\\79148\\appdata\\local\\packages\\pythonsoftwarefoundation.python.3.11_qbz5n2kfra8p0\\localcache\\local-packages\\python311\\site-packages (from matplotlib) (10.3.0)\n",
      "Requirement already satisfied: pyparsing>=2.3.1 in c:\\users\\79148\\appdata\\local\\packages\\pythonsoftwarefoundation.python.3.11_qbz5n2kfra8p0\\localcache\\local-packages\\python311\\site-packages (from matplotlib) (3.1.2)\n",
      "Requirement already satisfied: python-dateutil>=2.7 in c:\\users\\79148\\appdata\\local\\packages\\pythonsoftwarefoundation.python.3.11_qbz5n2kfra8p0\\localcache\\local-packages\\python311\\site-packages (from matplotlib) (2.9.0.post0)\n",
      "Requirement already satisfied: six>=1.5 in c:\\users\\79148\\appdata\\local\\packages\\pythonsoftwarefoundation.python.3.11_qbz5n2kfra8p0\\localcache\\local-packages\\python311\\site-packages (from python-dateutil>=2.7->matplotlib) (1.16.0)\n",
      "Note: you may need to restart the kernel to use updated packages.\n"
     ]
    }
   ],
   "source": [
    "pip install matplotlib"
   ]
  },
  {
   "cell_type": "code",
   "execution_count": 95,
   "id": "85fab7e3",
   "metadata": {},
   "outputs": [],
   "source": [
    "import matplotlib.pyplot as plt"
   ]
  },
  {
   "cell_type": "code",
   "execution_count": 96,
   "id": "bfe1d9b3",
   "metadata": {},
   "outputs": [
    {
     "data": {
      "text/plain": [
       "<Figure size 1000x600 with 0 Axes>"
      ]
     },
     "execution_count": 96,
     "metadata": {},
     "output_type": "execute_result"
    },
    {
     "data": {
      "text/plain": [
       "<Figure size 1000x600 with 0 Axes>"
      ]
     },
     "metadata": {},
     "output_type": "display_data"
    }
   ],
   "source": [
    "plt.figure(figsize=(10, 6))"
   ]
  },
  {
   "cell_type": "code",
   "execution_count": 97,
   "id": "7432d82a",
   "metadata": {},
   "outputs": [
    {
     "data": {
      "text/plain": [
       "[<matplotlib.lines.Line2D at 0x17d00fdd010>]"
      ]
     },
     "execution_count": 97,
     "metadata": {},
     "output_type": "execute_result"
    },
    {
     "data": {
      "image/png": "[encoded data removed]",
      "text/plain": [
       "<Figure size 640x480 with 1 Axes>"
      ]
     },
     "metadata": {},
     "output_type": "display_data"
    }
   ],
   "source": [
    "plt.plot(winter_data.index, winter_data['TAVG_C'], label='Winter', color='blue')\n",
    "plt.plot(spring_data.index, spring_data['TAVG_C'], label='Spring', color='red')\n",
    "plt.plot(summer_data.index, summer_data['TAVG_C'], label='Summer', color='green')\n",
    "plt.plot(autumn_data.index, autumn_data['TAVG_C'], label='Autumn', color='orange')"
   ]
  },
  {
   "cell_type": "code",
   "execution_count": null,
   "id": "6d2f0529",
   "metadata": {},
   "outputs": [],
   "source": []
  },
  {
   "cell_type": "code",
   "execution_count": null,
   "id": "651d9329",
   "metadata": {},
   "outputs": [],
   "source": []
  }
 ],
 "metadata": {
  "kernelspec": {
   "display_name": "Python 3 (ipykernel)",
   "language": "python",
   "name": "python3"
  },
  "language_info": {
   "codemirror_mode": {
    "name": "ipython",
    "version": 3
   },
   "file_extension": ".py",
   "mimetype": "text/x-python",
   "name": "python",
   "nbconvert_exporter": "python",
   "pygments_lexer": "ipython3",
   "version": "3.11.9"
  }
 },
 "nbformat": 4,
 "nbformat_minor": 5
}
